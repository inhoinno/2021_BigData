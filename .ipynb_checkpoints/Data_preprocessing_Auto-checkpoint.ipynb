{
 "cells": [
  {
   "cell_type": "code",
   "execution_count": 1,
   "metadata": {},
   "outputs": [
    {
     "name": "stdout",
     "output_type": "stream",
     "text": [
      " C 드라이브의 볼륨: SSD\n",
      " 볼륨 일련 번호: BCA4-98AF\n",
      "\n",
      " C:\\Users\\inhoinno\\Desktop\\Ordered Softeware\\2021 봄\\빅데이터처리_신현석\\HW_BIG 디렉터리\n",
      "\n",
      "2021-05-31  오후 06:09    <DIR>          .\n",
      "2021-05-31  오후 06:09    <DIR>          ..\n",
      "2021-05-31  오후 04:35    <DIR>          .ipynb_checkpoints\n",
      "2021-05-30  오후 01:12         1,713,821 2019_1.csv\n",
      "2021-05-30  오후 04:20            74,295 2019_1_total.csv\n",
      "2021-05-30  오후 01:25         1,843,769 2019_10.csv\n",
      "2021-05-30  오후 01:26         1,783,989 2019_11.csv\n",
      "2021-05-30  오후 01:27         1,840,923 2019_12.csv\n",
      "2021-05-31  오후 05:57         1,713,905 2019_2.csv\n",
      "2021-05-30  오후 01:19         1,713,436 2019_3.csv\n",
      "2021-05-30  오후 01:20         1,714,552 2019_4.csv\n",
      "2021-05-30  오후 01:22         1,714,644 2019_5.csv\n",
      "2021-05-30  오후 01:23         1,943,884 2019_6.csv\n",
      "2021-05-30  오후 01:24         1,711,732 2019_7.csv\n",
      "2021-05-30  오후 01:24         1,867,209 2019_8.csv\n",
      "2021-05-30  오후 01:25         1,857,048 2019_9.csv\n",
      "2021-05-30  오후 01:35         1,869,988 2020_1.csv\n",
      "2021-05-30  오후 01:33         1,716,713 2020_10.csv\n",
      "2021-05-30  오후 01:35         1,716,622 2020_11.csv\n",
      "2021-05-30  오후 01:34         1,715,661 2020_12.csv\n",
      "2021-05-30  오후 01:34         1,761,216 2020_2.csv\n",
      "2021-05-30  오후 01:31         1,760,416 2020_3.csv\n",
      "2021-05-30  오후 01:31         1,762,194 2020_4.csv\n",
      "2021-05-30  오후 01:32         1,762,928 2020_5.csv\n",
      "2021-05-30  오후 01:32         1,715,229 2020_6.csv\n",
      "2021-05-30  오후 01:32         1,715,560 2020_7.csv\n",
      "2021-05-30  오후 01:33         1,715,818 2020_8.csv\n",
      "2021-05-30  오후 01:33         1,717,204 2020_9.csv\n",
      "2021-05-31  오후 06:09            16,504 Data_preprocessing_Auto.ipynb\n",
      "2021-05-31  오후 06:03            72,176 Data_preprocessing1.ipynb\n",
      "              27개 파일          42,511,436 바이트\n",
      "               3개 디렉터리  20,965,330,944 바이트 남음\n"
     ]
    }
   ],
   "source": [
    "%ls ."
   ]
  },
  {
   "cell_type": "code",
   "execution_count": 2,
   "metadata": {},
   "outputs": [],
   "source": [
    "import numpy as np\n",
    "import pandas as pd\n",
    "import matplotlib.pyplot as plt\n",
    "import seaborn as sns"
   ]
  },
  {
   "cell_type": "code",
   "execution_count": 3,
   "metadata": {},
   "outputs": [],
   "source": [
    "YYYY=2019\n",
    "M =2\n",
    "counter = 0\n",
    "FILE = './{year}_{month}.csv'.format(year=YYYY,month=M)"
   ]
  },
  {
   "cell_type": "code",
   "execution_count": 4,
   "metadata": {},
   "outputs": [],
   "source": [
    "?pd.read_csv"
   ]
  },
  {
   "cell_type": "code",
   "execution_count": 8,
   "metadata": {},
   "outputs": [
    {
     "name": "stdout",
     "output_type": "stream",
     "text": [
      "CSV : ./2020_4.csv\n",
      " 2020Y, 4M\n",
      "./2020_4.csv NOT PROCESSED with 1817\n",
      "CSV : ./2020_5.csv\n",
      " 2020Y, 5M\n",
      "./2020_5.csv NOT PROCESSED with 1817\n",
      "CSV : ./2020_6.csv\n",
      " 2020Y, 6M\n",
      "./2020_6.csv NOT PROCESSED with 1818\n",
      "CSV : ./2020_7.csv\n",
      " 2020Y, 7M\n",
      "./2020_7.csv NOT PROCESSED with 1818\n",
      "CSV : ./2020_8.csv\n",
      " 2020Y, 8M\n",
      "./2020_8.csv NOT PROCESSED with 1818\n",
      "CSV : ./2020_9.csv\n",
      " 2020Y, 9M\n",
      "./2020_9.csv NOT PROCESSED with 1818\n",
      "CSV : ./2020_10.csv\n",
      " 2020Y, 10M\n",
      "./2020_10.csv NOT PROCESSED with 1818\n",
      "CSV : ./2020_11.csv\n",
      " 2020Y, 11M\n",
      "./2020_11.csv NOT PROCESSED with 1818\n",
      "CSV : ./2020_12.csv\n",
      " 2020Y, 12M\n",
      "./2020_12.csv NOT PROCESSED with 1818\n"
     ]
    }
   ],
   "source": [
    "## 2019_2.csv는 utf-8 문제 발생\n",
    "## 2020_4.csv, 2020_5.csv 는 '변리사:세종특별자치시' 필드가 있었지만 1817개만 존재(총 1818)\n",
    "##\n",
    "##\n",
    "state =False\n",
    "dct2 = pd.Index(['corp', 'city', '1', '2'])\n",
    "YYYY=2020\n",
    "M=4\n",
    "while(YYYY<2021):\n",
    "    FILE = './{year}_{month}.csv'.format(year=YYYY,month=M)    \n",
    "    \n",
    "    #1.Read CSV\n",
    "    print(\"CSV :\", FILE)\n",
    "    print(\" {year}Y, {month}M\".format(year=YYYY, month=M))\n",
    "    # 1.1 \n",
    "    data = pd.read_csv(FILE,encoding ='utf-8')\n",
    "    data = data.drop(index =data.index[0:5])\n",
    "    data = data.drop(index =data.index[-4:])\n",
    "    data = data.drop(columns = data.columns[4:])\n",
    "    data.reset_index(drop=True)\n",
    "    \n",
    "    for idx in range(0, data.columns.size):\n",
    "        data.rename(columns = {data.columns[idx]:dct2[idx]}, inplace = True)\n",
    "    \n",
    "    cond2 = data['1'] == '합계'\n",
    "    df=data[cond2]\n",
    "    df=df.reset_index(drop=True)\n",
    "    df=df.drop(columns='1')\n",
    "    \n",
    "    #2. Make 18 * 101 DF\n",
    "    if(df.index.size == 1817):\n",
    "        if((df['corp'].loc[620]=='변리사') & (df['city'].loc[620]=='광주광역시')):\n",
    "            df1 = pd.DataFrame({'corp':['변리사'],'city':['세종특별자치시'], '2':[0]})\n",
    "            df1.index += 620\n",
    "            df=data_total\n",
    "            df=df.append(df1).sort_index().reset_index(drop=True)\n",
    "            if(df.index.size == 1818):\n",
    "                state=True\n",
    "    \n",
    "    df.fillna(0)\n",
    "    df.replace(to_replace='*',value=0)\n",
    "    #3. Save to csv\n",
    "    df.to_csv('./{year}_{month}_total.csv'.format(year=YYYY,month=M),sep=',',encoding='utf-8') \n",
    "    del data\n",
    "    \n",
    "    if(M + 1 >= 13): # M=12 Next year\n",
    "        M = 1\n",
    "        YYYY += 1\n",
    "    else :     \n",
    "        M += 1 \n",
    "    \n",
    "    if(state):\n",
    "        print(FILE, \"PROCESSED SUCCESSFULLY with {0}\".format(df.index.size))\n",
    "    else:\n",
    "        print(FILE, \"NOT PROCESSED with {0}\".format(df.index.size))\n",
    "        \n",
    "    del df\n",
    "    "
   ]
  },
  {
   "cell_type": "code",
   "execution_count": 8,
   "metadata": {},
   "outputs": [
    {
     "ename": "NameError",
     "evalue": "name 'data' is not defined",
     "output_type": "error",
     "traceback": [
      "\u001b[1;31m---------------------------------------------------------------------------\u001b[0m",
      "\u001b[1;31mNameError\u001b[0m                                 Traceback (most recent call last)",
      "\u001b[1;32m<ipython-input-8-c5d84736ba45>\u001b[0m in \u001b[0;36m<module>\u001b[1;34m\u001b[0m\n\u001b[1;32m----> 1\u001b[1;33m \u001b[0mdata\u001b[0m\u001b[1;33m\u001b[0m\u001b[1;33m\u001b[0m\u001b[0m\n\u001b[0m",
      "\u001b[1;31mNameError\u001b[0m: name 'data' is not defined"
     ]
    }
   ],
   "source": [
    "data"
   ]
  },
  {
   "cell_type": "code",
   "execution_count": null,
   "metadata": {},
   "outputs": [],
   "source": [
    "del data"
   ]
  },
  {
   "cell_type": "code",
   "execution_count": null,
   "metadata": {},
   "outputs": [],
   "source": [
    "data"
   ]
  }
 ],
 "metadata": {
  "kernelspec": {
   "display_name": "Python 3",
   "language": "python",
   "name": "python3"
  },
  "language_info": {
   "codemirror_mode": {
    "name": "ipython",
    "version": 3
   },
   "file_extension": ".py",
   "mimetype": "text/x-python",
   "name": "python",
   "nbconvert_exporter": "python",
   "pygments_lexer": "ipython3",
   "version": "3.8.3"
  }
 },
 "nbformat": 4,
 "nbformat_minor": 4
}
