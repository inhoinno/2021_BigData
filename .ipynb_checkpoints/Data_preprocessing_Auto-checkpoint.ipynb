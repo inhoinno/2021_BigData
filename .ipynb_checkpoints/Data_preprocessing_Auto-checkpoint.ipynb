{
 "cells": [
  {
   "cell_type": "code",
   "execution_count": 14,
   "metadata": {},
   "outputs": [
    {
     "name": "stdout",
     "output_type": "stream",
     "text": [
      " C 드라이브의 볼륨: SSD\n",
      " 볼륨 일련 번호: BCA4-98AF\n",
      "\n",
      " C:\\Users\\inhoinno\\Desktop\\Ordered Softeware\\2021 봄\\빅데이터처리_신현석\\HW_BIG 디렉터리\n",
      "\n",
      "2021-06-03  오후 09:44    <DIR>          .\n",
      "2021-06-03  오후 09:44    <DIR>          ..\n",
      "2021-06-03  오전 01:58    <DIR>          .ipynb_checkpoints\n",
      "2021-05-31  오후 08:41         7,362,645 1920_origin.zip\n",
      "2021-06-02  오후 11:05    <DIR>          1920_preprocessed\n",
      "2021-05-31  오후 08:40           378,221 1920_preprocessed.zip\n",
      "2021-06-02  오후 11:15    <DIR>          1920_processed\n",
      "2021-06-02  오후 08:48            74,295 2020_1_total.csv\n",
      "2021-06-03  오후 09:43    <DIR>          copy\n",
      "2021-06-03  오전 01:49         1,864,515 COVID_BigTable(stack).csv\n",
      "2021-06-03  오전 01:49           195,556 COVID_BigTable.csv\n",
      "2021-06-02  오후 08:59         2,555,166 Data_-Idxing.ipynb\n",
      "2021-06-03  오후 09:44            16,073 Data_preprocessing_Auto.ipynb\n",
      "2021-06-02  오후 08:50            58,221 Data_preprocessing1.ipynb\n",
      "2021-05-31  오후 06:43            92,753 Data_preprocessing1-M45.ipynb\n",
      "2021-06-02  오후 08:23    <DIR>          Data_preprocessing2-Idxing\n",
      "2021-06-03  오전 01:56           254,823 Data_processing_CONCAT_MATPLOT_SEABORNv1_INHOINNO.ipynb\n",
      "2021-06-02  오후 03:06    <DIR>          Data_processing_reshape_total\n",
      "2021-06-02  오후 11:16            57,003 Data_processing2_reshape_total.ipynb\n",
      "2021-06-03  오전 01:55            48,778 Data_processing3_Concat_Multi-Index_Type.ipynb\n",
      "2021-06-03  오후 09:42         1,954,561 Data_Visualizing1.ipynb\n",
      "2021-06-03  오후 09:09         1,233,943 Data_Visualizing1.zip\n",
      "2021-06-03  오전 01:51           336,042 HW_BIG.zip\n",
      "2021-05-31  오후 08:48            18,853 preprocessed_notebook.zip\n",
      "2021-05-31  오후 08:48             1,363 Readme.md\n",
      "2021-06-02  오후 09:25            38,084 sample.ipynb\n",
      "2021-06-02  오후 03:00                72 Untitled.ipynb\n",
      "              19개 파일          16,540,967 바이트\n",
      "               8개 디렉터리  19,962,990,592 바이트 남음\n"
     ]
    }
   ],
   "source": [
    "%ls ."
   ]
  },
  {
   "cell_type": "code",
   "execution_count": 15,
   "metadata": {},
   "outputs": [],
   "source": [
    "import numpy as np\n",
    "import pandas as pd\n",
    "import matplotlib.pyplot as plt\n",
    "import seaborn as sns"
   ]
  },
  {
   "cell_type": "code",
   "execution_count": 16,
   "metadata": {},
   "outputs": [],
   "source": [
    "YYYY=2019\n",
    "M =2\n",
    "counter = 0\n",
    "FILE = './copy/{year}_{month}.csv'.format(year=YYYY,month=M)"
   ]
  },
  {
   "cell_type": "code",
   "execution_count": 21,
   "metadata": {},
   "outputs": [
    {
     "name": "stdout",
     "output_type": "stream",
     "text": [
      "CSV : ./copy/2019_1.csv\n",
      " 2019Y, 1M\n",
      "./copy/2019_1.csv PROCESSED SUCCESSFULLY with 1818\n",
      "CSV : ./copy/2019_2.csv\n",
      " 2019Y, 2M\n",
      "./copy/2019_2.csv PROCESSED SUCCESSFULLY with 1818\n",
      "CSV : ./copy/2019_3.csv\n",
      " 2019Y, 3M\n",
      "./copy/2019_3.csv PROCESSED SUCCESSFULLY with 1818\n",
      "CSV : ./copy/2019_4.csv\n",
      " 2019Y, 4M\n",
      "./copy/2019_4.csv PROCESSED SUCCESSFULLY with 1818\n",
      "CSV : ./copy/2019_5.csv\n",
      " 2019Y, 5M\n",
      "./copy/2019_5.csv PROCESSED SUCCESSFULLY with 1818\n",
      "CSV : ./copy/2019_6.csv\n",
      " 2019Y, 6M\n",
      "./copy/2019_6.csv PROCESSED SUCCESSFULLY with 1818\n",
      "CSV : ./copy/2019_7.csv\n",
      " 2019Y, 7M\n",
      "./copy/2019_7.csv PROCESSED SUCCESSFULLY with 1818\n",
      "CSV : ./copy/2019_8.csv\n",
      " 2019Y, 8M\n",
      "./copy/2019_8.csv PROCESSED SUCCESSFULLY with 1818\n",
      "CSV : ./copy/2019_9.csv\n",
      " 2019Y, 9M\n",
      "./copy/2019_9.csv PROCESSED SUCCESSFULLY with 1818\n",
      "CSV : ./copy/2019_10.csv\n",
      " 2019Y, 10M\n",
      "./copy/2019_10.csv PROCESSED SUCCESSFULLY with 1818\n",
      "CSV : ./copy/2019_11.csv\n",
      " 2019Y, 11M\n",
      "./copy/2019_11.csv PROCESSED SUCCESSFULLY with 1818\n",
      "CSV : ./copy/2019_12.csv\n",
      " 2019Y, 12M\n",
      "./copy/2019_12.csv PROCESSED SUCCESSFULLY with 1818\n",
      "CSV : ./copy/2020_1.csv\n",
      " 2020Y, 1M\n",
      "./copy/2020_1.csv PROCESSED SUCCESSFULLY with 1818\n",
      "CSV : ./copy/2020_2.csv\n",
      " 2020Y, 2M\n",
      "./copy/2020_2.csv PROCESSED SUCCESSFULLY with 1818\n",
      "CSV : ./copy/2020_3.csv\n",
      " 2020Y, 3M\n",
      "./copy/2020_3.csv PROCESSED SUCCESSFULLY with 1818\n",
      "CSV : ./copy/2020_4.csv\n",
      " 2020Y, 4M\n",
      "./copy/2020_4.csv PROCESSED SUCCESSFULLY with 1817\n",
      "CSV : ./copy/2020_5.csv\n",
      " 2020Y, 5M\n",
      "./copy/2020_5.csv PROCESSED SUCCESSFULLY with 1817\n",
      "CSV : ./copy/2020_6.csv\n",
      " 2020Y, 6M\n",
      "./copy/2020_6.csv PROCESSED SUCCESSFULLY with 1818\n",
      "CSV : ./copy/2020_7.csv\n",
      " 2020Y, 7M\n",
      "./copy/2020_7.csv PROCESSED SUCCESSFULLY with 1818\n",
      "CSV : ./copy/2020_8.csv\n",
      " 2020Y, 8M\n",
      "./copy/2020_8.csv PROCESSED SUCCESSFULLY with 1818\n",
      "CSV : ./copy/2020_9.csv\n",
      " 2020Y, 9M\n",
      "./copy/2020_9.csv PROCESSED SUCCESSFULLY with 1818\n",
      "CSV : ./copy/2020_10.csv\n",
      " 2020Y, 10M\n",
      "./copy/2020_10.csv PROCESSED SUCCESSFULLY with 1818\n",
      "CSV : ./copy/2020_11.csv\n",
      " 2020Y, 11M\n",
      "./copy/2020_11.csv PROCESSED SUCCESSFULLY with 1818\n",
      "CSV : ./copy/2020_12.csv\n",
      " 2020Y, 12M\n",
      "./copy/2020_12.csv PROCESSED SUCCESSFULLY with 1818\n"
     ]
    }
   ],
   "source": [
    "## 2019_2.csv는 utf-8 문제 발생\n",
    "## 2020_4.csv, 2020_5.csv 는 '변리사:세종특별자치시' 필드가 있었지만 1817개만 존재(총 1818)\n",
    "##\n",
    "##\n",
    "state =False\n",
    "dct2 = pd.Index(['corp', 'city', '1', '2'])\n",
    "YYYY=2019\n",
    "M=1\n",
    "while(YYYY<2021):\n",
    "    FILE = './1920_preprocessed/{year}_{month}.csv'.format(year=YYYY,month=M)    \n",
    "    \n",
    "    #1.Read CSV\n",
    "    print(\"CSV :\", FILE)\n",
    "    print(\" {year}Y, {month}M\".format(year=YYYY, month=M))\n",
    "    # 1.1 \n",
    "    data = pd.read_csv(FILE,encoding ='utf-8')\n",
    "    data = data.drop(index =data.index[0:5])\n",
    "    data = data.drop(index =data.index[-4:])\n",
    "    data = data.drop(columns = data.columns[4:])\n",
    "    data.reset_index(drop=True)\n",
    "    \n",
    "    for idx in range(0, data.columns.size):\n",
    "        data.rename(columns = {data.columns[idx]:dct2[idx]}, inplace = True)\n",
    "    \n",
    "    cond2 = data['1'] == '합계'\n",
    "    df=data[cond2]\n",
    "    df=df.reset_index(drop=True)\n",
    "    df=df.drop(columns='1')\n",
    "    \n",
    "    #2. Make 18 * 101 DF\n",
    "    if(df.index.size == 1817):\n",
    "        if((df['corp'].loc[620]=='변리사') & (df['city'].loc[620]=='광주광역시')):\n",
    "            df1 = pd.DataFrame({'corp':['변리사'],'city':['세종특별자치시'], '2':[0]})\n",
    "            df1.index += 620\n",
    "            df=df.append(df1).sort_index().reset_index(drop=True)\n",
    "            if(df.index.size == 1818):\n",
    "                state=True\n",
    "    \n",
    "    df.fillna(0)\n",
    "    df.replace(to_replace='*',value=0)\n",
    "    #3. Save to csv\n",
    "    df.to_csv('./1920_preprocessed/{year}_{month}_total.csv'.format(year=YYYY,month=M),sep=',',encoding='utf-8') \n",
    "    del data\n",
    "    \n",
    "    if(M + 1 >= 13): # M=12 Next year\n",
    "        M = 1\n",
    "        YYYY += 1\n",
    "    else :     \n",
    "        M += 1 \n",
    "    \n",
    "    if(state):\n",
    "        print(FILE, \"PROCESSED SUCCESSFULLY with {0}\".format(df.index.size))\n",
    "    else:\n",
    "        print(FILE, \"NOT PROCESSED with {0}\".format(df.index.size))\n",
    "        \n",
    "    del df\n",
    "    "
   ]
  },
  {
   "cell_type": "code",
   "execution_count": 8,
   "metadata": {},
   "outputs": [
    {
     "ename": "NameError",
     "evalue": "name 'data' is not defined",
     "output_type": "error",
     "traceback": [
      "\u001b[1;31m---------------------------------------------------------------------------\u001b[0m",
      "\u001b[1;31mNameError\u001b[0m                                 Traceback (most recent call last)",
      "\u001b[1;32m<ipython-input-8-c5d84736ba45>\u001b[0m in \u001b[0;36m<module>\u001b[1;34m\u001b[0m\n\u001b[1;32m----> 1\u001b[1;33m \u001b[0mdata\u001b[0m\u001b[1;33m\u001b[0m\u001b[1;33m\u001b[0m\u001b[0m\n\u001b[0m",
      "\u001b[1;31mNameError\u001b[0m: name 'data' is not defined"
     ]
    }
   ],
   "source": [
    "data"
   ]
  },
  {
   "cell_type": "code",
   "execution_count": null,
   "metadata": {},
   "outputs": [],
   "source": [
    "del data"
   ]
  },
  {
   "cell_type": "code",
   "execution_count": null,
   "metadata": {},
   "outputs": [],
   "source": [
    "data"
   ]
  }
 ],
 "metadata": {
  "kernelspec": {
   "display_name": "Python 3",
   "language": "python",
   "name": "python3"
  },
  "language_info": {
   "codemirror_mode": {
    "name": "ipython",
    "version": 3
   },
   "file_extension": ".py",
   "mimetype": "text/x-python",
   "name": "python",
   "nbconvert_exporter": "python",
   "pygments_lexer": "ipython3",
   "version": "3.8.3"
  }
 },
 "nbformat": 4,
 "nbformat_minor": 4
}
